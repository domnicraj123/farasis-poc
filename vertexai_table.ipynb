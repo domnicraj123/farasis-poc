{
 "cells": [
  {
   "cell_type": "code",
   "execution_count": null,
   "metadata": {},
   "outputs": [],
   "source": [
    "import json\n",
    "\n",
    "from tabulate import tabulate # type: ignore\n",
    "\n",
    "from langchain_google_vertexai import VertexAI # type: ignore\n",
    "from langchain_core.prompts import PromptTemplate # type: ignore\n",
    "from langchain.chains import LLMChain # type: ignore"
   ]
  },
  {
   "cell_type": "code",
   "execution_count": null,
   "metadata": {},
   "outputs": [],
   "source": [
    "from google.cloud import aiplatform\n",
    "aiplatform.init(\n",
    "    # your Google Cloud Project ID or number\n",
    "    # environment default used is not set\n",
    "    project='',\n",
    "\n",
    "    # the Vertex AI region you will use\n",
    "    # defaults to us-central1\n",
    "    location='us-central1')"
   ]
  },
  {
   "cell_type": "code",
   "execution_count": null,
   "metadata": {},
   "outputs": [],
   "source": [
    "'''\n",
    "data = \"\"\"\n",
    "table: 1\n",
    "\n",
    "+---------------------------------------------------------------------------------------+-----------------------------------------------+-----------------------------------------------+-------------------------------------------------------------------+\n",
    "| Pack properties                                                                       | Option 1                                      | Option 2                                      | Add Proposal/Comments                                             |\n",
    "+---------------------------------------------------------------------------------------+-----------------------------------------------+-----------------------------------------------+-------------------------------------------------------------------+\n",
    "| Connection in vehicle                                                                 | All packs in parallel                         | 2 packs in serie                              |                                                                   |\n",
    "+---------------------------------------------------------------------------------------+-----------------------------------------------+-----------------------------------------------+-------------------------------------------------------------------+\n",
    "| Cell chemistry                                                                        | Cathode: LFP, NMC, NMx….                      | Cathode: LFP, NMC, NMx….                      | Add chemistry and composition                                     |\n",
    "|                                                                                       |                                               |                                               | Cathode/Elyt/Anode                                                |\n",
    "+---------------------------------------------------------------------------------------+-----------------------------------------------+-----------------------------------------------+-------------------------------------------------------------------+\n",
    "| Voltage                                                                               |                                               |                                               |                                                                   |\n",
    "+---------------------------------------------------------------------------------------+-----------------------------------------------+-----------------------------------------------+-------------------------------------------------------------------+\n",
    "| Min./Max. Dynamic Voltage (V)                                                         | ∼580 V /< 850 V                               | ∼290 V / < 425 V                              | The Pack must not meet exactly the voltage range of 580-850V      |\n",
    "|                                                                                       |                                               |                                               | (these are only limts). The min. dynamicvoltage value of 580V can |\n",
    "|                                                                                       |                                               |                                               | correspond to an e.g.3% SoC                                       |\n",
    "+---------------------------------------------------------------------------------------+-----------------------------------------------+-----------------------------------------------+-------------------------------------------------------------------+\n",
    "| Energy                                                                                |                                               |                                               |                                                                   |\n",
    "+---------------------------------------------------------------------------------------+-----------------------------------------------+-----------------------------------------------+-------------------------------------------------------------------+\n",
    "| Installed Energy BoL(kWh)                                                             | >50                                           | >50                                           |                                                                   |\n",
    "+---------------------------------------------------------------------------------------+-----------------------------------------------+-----------------------------------------------+-------------------------------------------------------------------+\n",
    "| Usable Energy at EoL(kWh)                                                             | >40                                           | >40                                           | EoL= 80% SoH, if other please mention                             |\n",
    "+---------------------------------------------------------------------------------------+-----------------------------------------------+-----------------------------------------------+-------------------------------------------------------------------+\n",
    "| Energy Density                                                                        |                                               |                                               |                                                                   |\n",
    "+---------------------------------------------------------------------------------------+-----------------------------------------------+-----------------------------------------------+-------------------------------------------------------------------+\n",
    "| Vol. Energy Density, installed BoL(Wh/L)                                              | >270                                          | >270                                          |                                                                   |\n",
    "+---------------------------------------------------------------------------------------+-----------------------------------------------+-----------------------------------------------+-------------------------------------------------------------------+\n",
    "| Grav. Energy Density, Installed BOL (Wh/kg)                                           | >150                                          | >150                                          |                                                                   |\n",
    "+---------------------------------------------------------------------------------------+-----------------------------------------------+-----------------------------------------------+-------------------------------------------------------------------+\n",
    "| Charging/ Discharge power                                                             |                                               |                                               |                                                                   |\n",
    "+---------------------------------------------------------------------------------------+-----------------------------------------------+-----------------------------------------------+-------------------------------------------------------------------+\n",
    "| Min. cont. charge power for different bus applications: 1) LPC /2) HPC /3) SPC        | 1)25 kW2) 75 kW 3)125 kW                      | 1)25 kW2) 75 kW 3)125 kW                      | LPC: low power charging (150 kW Bus)/HPC: high power charging     |\n",
    "| Max. charging time for full charging (full usable range) 1) LPC /2) HPC /3) SPC       | 1)4 h 2) 1h 3) 0,5 -0,7 h                     | 1)4 h 2) 1h 3) 0,5 -0,7 h                     | (450 KW Bus) /SPC: super power charge (1MW Bus)                   |\n",
    "+---------------------------------------------------------------------------------------+-----------------------------------------------+-----------------------------------------------+-------------------------------------------------------------------+\n",
    "| Min. discharge power (10 s peak, 50% SoC, recom. operational T)                       | tbd                                           | tbd                                           |                                                                   |\n",
    "+---------------------------------------------------------------------------------------+-----------------------------------------------+-----------------------------------------------+-------------------------------------------------------------------+\n",
    "| Lifetime                                                                              |                                               |                                               |                                                                   |\n",
    "+---------------------------------------------------------------------------------------+-----------------------------------------------+-----------------------------------------------+-------------------------------------------------------------------+\n",
    "| Lifetime pack warranty [years/ total energy throughput/ equiv. full cycles up to EoL] | >10y / > 400MWh ( > equiv. full cycles =4000) | >10y / > 400MWh ( > equiv. full cycles =4000) | Whichever comes first                                             |\n",
    "+---------------------------------------------------------------------------------------+-----------------------------------------------+-----------------------------------------------+-------------------------------------------------------------------+\n",
    "| Calendaric lifetime (25°C, 80% SoC, up to 80% SoH)                                    | >20 years                                     | >20 years                                     |                                                                   |\n",
    "+---------------------------------------------------------------------------------------+-----------------------------------------------+-----------------------------------------------+-------------------------------------------------------------------+\n",
    "| Cyclic lifetime (by operation T, max. usable DoD range, up to 80% SoH)                | >4000 cycles                                  | >4000 cycles                                  |                                                                   |\n",
    "+---------------------------------------------------------------------------------------+-----------------------------------------------+-----------------------------------------------+-------------------------------------------------------------------+\n",
    "| Mechanical Properties                                                                 |                                               |                                               |                                                                   |\n",
    "+---------------------------------------------------------------------------------------+-----------------------------------------------+-----------------------------------------------+-------------------------------------------------------------------+\n",
    "| Approx. Dimension[mm] (wo Brackets, L x W x H)                                        | L < 2000 | W < 640 | H <140                   | L < 2000 | W < 640 | H <140                   | Pleaseadd tolerance (+/-)                                         |\n",
    "+---------------------------------------------------------------------------------------+-----------------------------------------------+-----------------------------------------------+-------------------------------------------------------------------+\n",
    "| Weight[kg] (wo Brackets)                                                              | 330                                           | 330                                           | Pleaseadd tolerance (+/-)                                         |\n",
    "+---------------------------------------------------------------------------------------+-----------------------------------------------+-----------------------------------------------+-------------------------------------------------------------------+\n",
    "\"\"\"\n",
    "\n",
    "\n",
    "llm =  VertexAI(model_name=\"gemini-1.0-pro\",temperature=0)\n",
    "template = \"\"\"\n",
    "Create a json with following parameter information extracted from Table mension below and use information only from table for value of each parameter -\n",
    "'Energy (kwh)', 'Minimum Voltage (V)','Maximum Voltage (V)', 'Length (mm)','Width (mm)','Height(mm)'\n",
    "When there are more than 1 value parsed for any of the parameters, append all values to a list for key value.\n",
    "\n",
    "Table:\n",
    "{table_data}\n",
    "\"\"\"\n",
    "prompt =  PromptTemplate.from_template(template=template)\n",
    "chain = LLMChain(llm=llm, prompt=prompt)\n",
    "responce = chain.run({\"table_data\":data})\n",
    "print(responce)\n",
    "'''"
   ]
  },
  {
   "cell_type": "code",
   "execution_count": null,
   "metadata": {},
   "outputs": [],
   "source": [
    "def model():\n",
    "    return VertexAI(model_name=\"gemini-1.0-pro\",temperature=0)"
   ]
  },
  {
   "cell_type": "code",
   "execution_count": null,
   "metadata": {},
   "outputs": [],
   "source": [
    "def get_prompt():\n",
    "    template = \"\"\"\n",
    "Create a json with following parameter information extracted from Table mension below and use information only from table for value of each parameter -\n",
    "'Energy (kwh)', 'Minimum Voltage (V)','Maximum Voltage (V)', 'Length (mm)','Width (mm)','Height(mm)'\n",
    "When there are more than 1 value parsed for any of the parameters, append all values to a list for key value. Don't explain the results\n",
    "\n",
    "Table:\n",
    "{table_data}\n",
    "\n",
    "Expected Output Format:\n",
    "{output_format}\n",
    "\"\"\"\n",
    "    out_formate = \"\"\"{\n",
    "\"energy_kwh\": [<value or null>],\n",
    "\"min_voltage\": [<value or null>],\n",
    "\"max_voltage\": [<value or null>],\n",
    "\"length_mm\": [<value or null>],\n",
    "\"width_mm\": [<value or null>],\n",
    "\"height_mm\": [<value or null>],\n",
    "\"confidence_level\": <high, low or null>\n",
    "}\"\"\"\n",
    "    return PromptTemplate.from_template(template=template, partial_variables={\"output_format\": out_formate})\n"
   ]
  },
  {
   "cell_type": "code",
   "execution_count": null,
   "metadata": {},
   "outputs": [],
   "source": [
    "def get_table_info(path, page_number):\n",
    "    with open(path,'r') as myfile:\n",
    "        data = json.load(myfile)\n",
    "    results = \"\"\n",
    "    page_number = str(page_number)\n",
    "    for i in data[page_number]['tables']:\n",
    "        results += str(\"table: \"+i+\"\\n\\n\")\n",
    "        results += tabulate(data[page_number]['tables'][i], tablefmt=\"grid\")\n",
    "        results += \"\\n-----xxx-----\"*10+\"\\n\\n\"\n",
    "\n",
    "    return results\n",
    "    #return str(data[page_number]['tables'][i])\n",
    "    \"\"\"\n",
    "    print(data[str(page_number)])\n",
    "    \"\"\""
   ]
  },
  {
   "cell_type": "code",
   "execution_count": null,
   "metadata": {},
   "outputs": [],
   "source": [
    "import re\n",
    "\n",
    "def format_responce(input_text):\n",
    "    start_index = input_text.find('{')\n",
    "    end_index = input_text.rfind('}') + 1\n",
    "\n",
    "    if start_index != -1 and end_index != -1:\n",
    "        json_text = input_text[start_index:end_index]\n",
    "        return json.loads(str(json_text))\n",
    "    else:\n",
    "        return None"
   ]
  },
  {
   "cell_type": "code",
   "execution_count": null,
   "metadata": {},
   "outputs": [],
   "source": [
    "def find_parameter(chain, data):\n",
    "    return chain.run({\"table_data\":data})"
   ]
  },
  {
   "cell_type": "code",
   "execution_count": null,
   "metadata": {},
   "outputs": [],
   "source": [
    "def main(path,no):\n",
    "    llm = model()\n",
    "    prompt = get_prompt()\n",
    "    chain = LLMChain(llm=llm, prompt=prompt)\n",
    "    \n",
    "    table_data = get_table_info(path,no)\n",
    "    responce = chain.run({\"table_data\":table_data})\n",
    "    print(responce)\n",
    "    # responce = format_responce(responce)\n",
    "    # print(json.dumps(responce, indent=4))\n",
    "    \n",
    "    # with open(path,'r') as myfile:\n",
    "    #     data = json.load(myfile)\n",
    "    # for i in range(1,len(data)+1):\n",
    "    #     print(\"page:\",i)\n",
    "    #     table_data = get_table_info(path,i)\n",
    "    #     responce = find_parameter(chain, table_data)\n",
    "    #     responce = format_responce(responce)\n",
    "    #     print(responce)\n"
   ]
  },
  {
   "cell_type": "code",
   "execution_count": null,
   "metadata": {},
   "outputs": [],
   "source": [
    "file_path = \"D:\\\\squareshift\\\\Query-with-English\\\\notebooks\\\\result.json\""
   ]
  },
  {
   "cell_type": "code",
   "execution_count": null,
   "metadata": {},
   "outputs": [],
   "source": [
    "main(file_path, 5)"
   ]
  },
  {
   "cell_type": "code",
   "execution_count": null,
   "metadata": {},
   "outputs": [],
   "source": [
    "main(file_path, 7)"
   ]
  },
  {
   "cell_type": "code",
   "execution_count": null,
   "metadata": {},
   "outputs": [],
   "source": [
    "main(file_path, 11)"
   ]
  },
  {
   "cell_type": "code",
   "execution_count": null,
   "metadata": {},
   "outputs": [],
   "source": [
    "main(file_path, 12)"
   ]
  },
  {
   "cell_type": "code",
   "execution_count": null,
   "metadata": {},
   "outputs": [],
   "source": [
    "main(file_path, 15)"
   ]
  },
  {
   "cell_type": "code",
   "execution_count": null,
   "metadata": {},
   "outputs": [],
   "source": []
  },
  {
   "cell_type": "code",
   "execution_count": null,
   "metadata": {},
   "outputs": [],
   "source": []
  }
 ],
 "metadata": {
  "kernelspec": {
   "display_name": "vevn_e2q",
   "language": "python",
   "name": "python3"
  },
  "language_info": {
   "codemirror_mode": {
    "name": "ipython",
    "version": 3
   },
   "file_extension": ".py",
   "mimetype": "text/x-python",
   "name": "python",
   "nbconvert_exporter": "python",
   "pygments_lexer": "ipython3",
   "version": "3.12.2"
  }
 },
 "nbformat": 4,
 "nbformat_minor": 2
}
